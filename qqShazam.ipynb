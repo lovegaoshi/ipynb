{
 "cells": [
  {
   "cell_type": "code",
   "execution_count": null,
   "id": "17a92815",
   "metadata": {},
   "outputs": [],
   "source": [
    "\n",
    "import win32gui, win32com.client, win32con\n",
    "#from pynput.mouse import Button, Controller\n",
    "#mouse = Controller()\n",
    "import pyautogui\n",
    "import time, random\n",
    "import dxinput, pyperclip, subprocess\n",
    "def qqshazam_shortcut(window = None):\n",
    "    dxinput.combo(['shift', 'alt','s']) \n",
    "    \n",
    "def call_hearthstone_window_wrapper(func, window = 'Hearthstone', minimize_after = True):\n",
    "    forground_window = win32gui.GetForegroundWindow()\n",
    "    shell = win32com.client.Dispatch(\"WScript.Shell\")\n",
    "    shell.SendKeys('%')\n",
    "    hs_window = win32gui.FindWindow(None, window)\n",
    "    win32gui.SetForegroundWindow(hs_window)\n",
    "    time.sleep(0.1 + random.randrange(5) * 0.05)\n",
    "    func(hs_window)\n",
    "    if not minimize_after:\n",
    "        return\n",
    "    win32gui.ShowWindow(hs_window, win32con.SW_MINIMIZE)\n",
    "    win32gui.SetForegroundWindow(forground_window)\n",
    "call_hearthstone_window_wrapper(qqshazam_shortcut, 'QQ音乐')"
   ]
  },
  {
   "cell_type": "code",
   "execution_count": null,
   "id": "3e88dc9c",
   "metadata": {},
   "outputs": [],
   "source": [
    "#qq音乐你就是个sb\n",
    "def getRect(hw):\n",
    "    hsx, hsy, hsw, hsh = win32gui.GetWindowRect(hw)\n",
    "    print(hsx, hsy, hsw, hsh)\n",
    "    dxinput.set_mouse_pos(hsx + hsw * 0.5, hsy + hsh * 0.5)\n",
    "call_hearthstone_window_wrapper(getRect, 'memu')"
   ]
  },
  {
   "cell_type": "code",
   "execution_count": null,
   "id": "781b1aed",
   "metadata": {},
   "outputs": [],
   "source": [
    "\n",
    "dxinput.set_mouse_pos(1300, 500)\n",
    "time.sleep(0.2)\n",
    "dxinput.mouse_click('left')\n",
    "time.sleep(0.2)\n",
    "dxinput.mouse_click('left')\n",
    "a = pyperclip.paste().split('，')\n",
    "print(a)\n",
    "try:\n",
    "    title = a[0][4:]\n",
    "except:\n",
    "    title = ''\n",
    "try:\n",
    "    artist = a[1][4:]\n",
    "except:\n",
    "    artist = ''\n",
    "try:\n",
    "    album = a[2][4:]\n",
    "except:\n",
    "    album = ''\n",
    "print(title, artist, album)"
   ]
  },
  {
   "cell_type": "code",
   "execution_count": null,
   "id": "94ad07d6",
   "metadata": {},
   "outputs": [],
   "source": [
    "import subprocess, signal\n",
    "def qqshazam(file, timeout = 17, buffer = 5, repeat = 1):\n",
    "    if repeat < 1: return None\n",
    "    p = subprocess.Popen(file, shell=True)\n",
    "    pyperclip.copy('')\n",
    "    time.sleep(buffer)\n",
    "    call_hearthstone_window_wrapper(qqshazam_shortcut, 'QQ音乐')\n",
    "    t = 0\n",
    "    while t < timeout:\n",
    "        \n",
    "        dxinput.set_mouse_pos(1000, 500)\n",
    "        time.sleep(0.2)\n",
    "        dxinput.mouse_click('left')\n",
    "        time.sleep(0.2)\n",
    "        dxinput.mouse_click('left')\n",
    "        if len(pyperclip.paste()) == 0: \n",
    "            time.sleep(1)\n",
    "            t += 1\n",
    "            continue\n",
    "        a = pyperclip.paste().split('，')\n",
    "        try:\n",
    "            title = a[0][4:]\n",
    "        except:\n",
    "            title = ''\n",
    "        try:\n",
    "            artist = a[1][4:]\n",
    "        except:\n",
    "            artist = ''\n",
    "        try:\n",
    "            album = a[2][4:]\n",
    "        except:\n",
    "            album = ''\n",
    "        print('shazam successful', title, artist, album)\n",
    "        #p.terminate()\n",
    "        return title, artist, album\n",
    "    print('qq shazam failed')\n",
    "    #p.terminate()\n",
    "    return qqshazam(file, timeout, 0, repeat - 1)\n",
    "#qqshazam(r\"D:\\tmp\\ytd\\extract\\[桃几OvO] 【直播回放】人形自走点歌机 2022年6月3日15点场 20220604_7.mp3\")"
   ]
  },
  {
   "cell_type": "code",
   "execution_count": null,
   "id": "7912e32d",
   "metadata": {},
   "outputs": [],
   "source": [
    "qqshazam(r\"D:\\tmp\\ytd\\extract\\[黑泽诺亚NOIR] 【直播回放】大 概 耐 久 回 挑 战 2022年3月26日16点场 20220327b_8.mp3\")"
   ]
  },
  {
   "cell_type": "code",
   "execution_count": 4,
   "id": "d30a1f15",
   "metadata": {},
   "outputs": [],
   "source": [
    "\n",
    "from inaseg import shazam, shazam_title, shazam_coverart, shutil\n",
    "k = shazam(r\"H:\\Music\\Android\\registered\\[SodaNomore] 【黑泽诺亚】【歌切】Say so 20220414.mp3\", stop_at_first_match = 5)"
   ]
  },
  {
   "cell_type": "code",
   "execution_count": 5,
   "id": "510a3c14",
   "metadata": {},
   "outputs": [
    {
     "data": {
      "text/plain": [
       "[]"
      ]
     },
     "execution_count": 5,
     "metadata": {},
     "output_type": "execute_result"
    }
   ],
   "source": [
    "k"
   ]
  },
  {
   "cell_type": "code",
   "execution_count": 9,
   "id": "235a7d6c",
   "metadata": {},
   "outputs": [
    {
     "name": "stdout",
     "output_type": "stream",
     "text": [
      "https://api.bilibili.com/x/series/archives?mid=2970476&series_id=1008939&only_normal=true&sort=desc&pn=1&ps=30\n"
     ]
    }
   ],
   "source": [
    "import re\n",
    "\n",
    "class InfoExtractor():\n",
    "    def extract_API(self, stop_after = None, *args):\n",
    "        r = []\n",
    "        for i in range(999):\n",
    "            k = requests.get(self._VALID_URL.format(*args, page = str(i + 1)))\n",
    "\n",
    "class BilibiliChannelSeriesIE(InfoExtractor):    \n",
    "    # https://space.bilibili.com/592726738/channel/seriesdetail?sid=2357741&ctype=0\n",
    "    _VALID_URL = r'https?://space.bilibili\\.com/(?P<userid>\\d+)/channel/seriesdetail.+sid=(?P<listid>\\d+)'\n",
    "    _GROUPED_BY = ['userid', 'listid']\n",
    "    API = r'https://api.bilibili.com/x/series/archives?mid={}&series_id={}&only_normal=true&sort=desc&pn={page}&ps=30'\n",
    "\n",
    "    \n",
    "class BilibiliChannelCollectionsIE(InfoExtractor):    \n",
    "    _VALID_URL = r'https?://space.bilibili\\.com/(?P<userid>\\d+)/channel/collectiondetail.+sid=(?P<listid>\\d+)'\n",
    "    _GROUPED_BY = ['userid', 'listid']\n",
    "    API = r'https://api.bilibili.com/x/polymer/space/seasons_archives_list?mid={}&season_id={}&sort_reverse=false&page_num={page}&page_size=30'\n",
    "\n",
    "EXTRACTORS = {\n",
    "    'biliseries' : BilibiliChannelSeriesIE,\n",
    "    'bilicolle' : BilibiliChannelCollectionsIE,\n",
    "}\n",
    "\n",
    "url = r'https://space.bilibili.com/592726738/channel/seriesdetail?sid=2357741&ctype=0'\n",
    "url = r'https://space.bilibili.com/2970476/channel/seriesdetail?sid=1008939?dfsf'\n",
    "extractor = EXTRACTORS['biliseries']()\n",
    "print(extractor.API.format(*re.compile(extractor._VALID_URL).match(url).group(*extractor._GROUPED_BY), page = 1))"
   ]
  },
  {
   "cell_type": "code",
   "execution_count": 10,
   "id": "7ae29d74",
   "metadata": {},
   "outputs": [],
   "source": [
    "import requests\n",
    "k = requests.get(extractor.API.format(*re.compile(extractor._VALID_URL).match(url).group(*extractor._GROUPED_BY), page = 1))"
   ]
  },
  {
   "cell_type": "code",
   "execution_count": 19,
   "id": "62306f77",
   "metadata": {},
   "outputs": [
    {
     "data": {
      "text/plain": [
       "{'code': 0,\n",
       " 'message': '0',\n",
       " 'ttl': 1,\n",
       " 'data': {'mid': 6759757,\n",
       "  'name': '梨絵Rie',\n",
       "  'sex': '保密',\n",
       "  'face': 'http://i1.hdslb.com/bfs/face/3c51bed038de2df9580d9cd70c112de5af0a521e.jpg',\n",
       "  'face_nft': 0,\n",
       "  'face_nft_type': 0,\n",
       "  'sign': '个人势，是企鹅啦，直播时间：20：00，白天偶尔出没  粉丝群：914667612',\n",
       "  'rank': 10000,\n",
       "  'level': 4,\n",
       "  'jointime': 0,\n",
       "  'moral': 0,\n",
       "  'silence': 0,\n",
       "  'coins': 0,\n",
       "  'fans_badge': True,\n",
       "  'fans_medal': {'show': False, 'wear': False, 'medal': None},\n",
       "  'official': {'role': 0, 'title': '', 'desc': '', 'type': -1},\n",
       "  'vip': {'type': 2,\n",
       "   'status': 1,\n",
       "   'due_date': 1667664000000,\n",
       "   'vip_pay_type': 0,\n",
       "   'theme_type': 0,\n",
       "   'label': {'path': '',\n",
       "    'text': '年度大会员',\n",
       "    'label_theme': 'annual_vip',\n",
       "    'text_color': '#FFFFFF',\n",
       "    'bg_style': 1,\n",
       "    'bg_color': '#FB7299',\n",
       "    'border_color': '',\n",
       "    'use_img_label': True,\n",
       "    'img_label_uri_hans': '',\n",
       "    'img_label_uri_hant': '',\n",
       "    'img_label_uri_hans_static': 'https://i0.hdslb.com/bfs/vip/8d4f8bfc713826a5412a0a27eaaac4d6b9ede1d9.png',\n",
       "    'img_label_uri_hant_static': 'https://i0.hdslb.com/bfs/activity-plat/static/20220614/e369244d0b14644f5e1a06431e22a4d5/VEW8fCC0hg.png'},\n",
       "   'avatar_subscript': 1,\n",
       "   'nickname_color': '#FB7299',\n",
       "   'role': 3,\n",
       "   'avatar_subscript_url': '',\n",
       "   'tv_vip_status': 0,\n",
       "   'tv_vip_pay_type': 0},\n",
       "  'pendant': {'pid': 0,\n",
       "   'name': '',\n",
       "   'image': '',\n",
       "   'expire': 0,\n",
       "   'image_enhance': '',\n",
       "   'image_enhance_frame': ''},\n",
       "  'nameplate': {'nid': 0,\n",
       "   'name': '',\n",
       "   'image': '',\n",
       "   'image_small': '',\n",
       "   'level': '',\n",
       "   'condition': ''},\n",
       "  'user_honour_info': {'mid': 0, 'colour': None, 'tags': []},\n",
       "  'is_followed': False,\n",
       "  'top_photo': 'http://i0.hdslb.com/bfs/space/cb1c3ef50e22b6096fde67febe863494caefebad.png',\n",
       "  'theme': {},\n",
       "  'sys_notice': {},\n",
       "  'live_room': {'roomStatus': 1,\n",
       "   'liveStatus': 0,\n",
       "   'url': 'https://live.bilibili.com/22536488?broadcast_type=0&is_room_feed=1',\n",
       "   'title': '新v试播第一天',\n",
       "   'cover': 'http://i0.hdslb.com/bfs/live/new_room_cover/f44e2119d57b1c33e5d5354d17c29f8adbb2b72f.jpg',\n",
       "   'roomid': 22536488,\n",
       "   'roundStatus': 0,\n",
       "   'broadcast_type': 0,\n",
       "   'watched_show': {'switch': True,\n",
       "    'num': 317,\n",
       "    'text_small': '317',\n",
       "    'text_large': '317人看过',\n",
       "    'icon': 'https://i0.hdslb.com/bfs/live/a725a9e61242ef44d764ac911691a7ce07f36c1d.png',\n",
       "    'icon_location': '',\n",
       "    'icon_web': 'https://i0.hdslb.com/bfs/live/8d9d0f33ef8bf6f308742752d13dd0df731df19c.png'}},\n",
       "  'birthday': '01-01',\n",
       "  'school': None,\n",
       "  'profession': {'name': '', 'department': '', 'title': '', 'is_show': 0},\n",
       "  'tags': None,\n",
       "  'series': {'user_upgrade_status': 3, 'show_upgrade_window': False},\n",
       "  'is_senior_member': 0,\n",
       "  'mcn_info': None}}"
      ]
     },
     "execution_count": 19,
     "metadata": {},
     "output_type": "execute_result"
    }
   ],
   "source": [
    "import json\n",
    "json.loads(requests.get(r'https://api.bilibili.com/x/space/acc/info?mid=6759757', headers = {\n",
    "'user-agent':'Mozilla/5.0 (Linux; Android 6.0; Nexus 5 Build/MRA58N) AppleWebKit/537.36 (KHTML, like Gecko) Chrome/103.0.5060.134 Mobile Safari/537.36'}).text)"
   ]
  },
  {
   "cell_type": "code",
   "execution_count": 53,
   "id": "ec0a8c02",
   "metadata": {},
   "outputs": [
    {
     "name": "stdout",
     "output_type": "stream",
     "text": [
      "[['【直播回放】【贝萨】唱唱歌 2022年7月6日10点场', 'https://www.bilibili.com/video/BV1Lv4y1M7uW'], ['【直播回放】【贝萨】唱唱歌 2022年7月3日9点场', 'https://www.bilibili.com/video/BV1C3411F7cq'], ['【直播回放】【贝萨】自助唱K？ 2022年6月29日10点场', 'https://www.bilibili.com/video/BV1LL4y1w7dZ'], ['【直播回放】【贝萨】看看二创学首歌 2022年6月26日10点场', 'https://www.bilibili.com/video/BV1KF411F7Sq'], ['【直播回放】【贝萨】唱唱歌 2022年6月22日9点场', 'https://www.bilibili.com/video/BV1av4y1M7F4'], ['【直播回放】【贝萨】唱唱歌 2022年6月15日9点场', 'https://www.bilibili.com/video/BV1pA4y1d7WS'], ['【直播回放】【贝萨】唱唱歌 2022年6月12日9点场', 'https://www.bilibili.com/video/BV1fL4y1P76t'], ['【直播回放】【贝萨】周三歌回 2022年6月8日10点场', 'https://www.bilibili.com/video/BV1AY4y1G7mr']]\n"
     ]
    }
   ],
   "source": [
    "import re, requests, time\n",
    "\n",
    "class InfoExtractor():\n",
    "    def extract_API(self, *args, stop_after:str = None, time_wait = 0.5) -> list:\n",
    "        r = []\n",
    "        for i in range(999):\n",
    "            k = requests.get(self._API.format(*args, page = str(i + 1)))\n",
    "            parsed, return_signal = self.parse_json(json_obj = k, stop_after = stop_after)\n",
    "            r += parsed\n",
    "            if return_signal: return r\n",
    "            time.sleep(time_wait)\n",
    "        return r\n",
    "\n",
    "    def parse_json(self, json_obj, **kwargs):\n",
    "        raise Exception()\n",
    "\n",
    "class BilibiliChannelSeriesIE(InfoExtractor):    \n",
    "    # https://space.bilibili.com/592726738/channel/seriesdetail?sid=2357741&ctype=0\n",
    "    _VALID_URL = r'https?://space.bilibili\\.com/(?P<userid>\\d+)/channel/seriesdetail.+sid=(?P<listid>\\d+)'\n",
    "    _GROUPED_BY = ['userid', 'listid']\n",
    "    _API = r'https://api.bilibili.com/x/series/archives?mid={}&series_id={}&only_normal=true&sort=desc&pn={page}&ps=30'\n",
    "\n",
    "    def parse_json(self, json_obj: dict, stop_after: bool = None) -> tuple:\n",
    "        r = []\n",
    "        if len(json_obj.json()['data']['archives']) == 0: return [], True\n",
    "        for i in json_obj.json()['data']['archives']:\n",
    "            if i['bvid'] == stop_after: return r, True\n",
    "            r.append([i['title'], r'https://www.bilibili.com/video/{}'.format(i['bvid'])])\n",
    "            if stop_after is True: return r, True\n",
    "        return r, False\n",
    "    \n",
    "class BilibiliChannelCollectionsIE(InfoExtractor):    \n",
    "    _VALID_URL = r'https?://space.bilibili\\.com/(?P<userid>\\d+)/channel/collectiondetail.+sid=(?P<listid>\\d+)'\n",
    "    _GROUPED_BY = ['userid', 'listid']\n",
    "    _API = r'https://api.bilibili.com/x/polymer/space/seasons_archives_list?mid={}&season_id={}&sort_reverse=false&page_num={page}&page_size=30'\n",
    "\n",
    "def my_url_filter(r: list) -> list:\n",
    "    r2 = []\n",
    "    for i in r:\n",
    "        if not '歌' in i[0] and not '唱' in i[0]: continue\n",
    "        r2.append(i[1])\n",
    "    return r2\n",
    "    \n",
    "EXTRACTORS = {\n",
    "    'biliseries' : BilibiliChannelSeriesIE,\n",
    "    'bilicolle' : BilibiliChannelCollectionsIE,\n",
    "}\n",
    "\n",
    "if __name__ == '__main__':\n",
    "    url = r'https://space.bilibili.com/592726738/channel/seriesdetail?sid=2357741&ctype=0'\n",
    "    extractor = EXTRACTORS['biliseries']()\n",
    "    print(my_url_filter(extractor.extract_API(*re.compile(extractor._VALID_URL).match(url).group(*extractor._GROUPED_BY), stop_after = None)))"
   ]
  },
  {
   "cell_type": "code",
   "execution_count": 64,
   "id": "a76aa117",
   "metadata": {},
   "outputs": [
    {
     "ename": "AttributeError",
     "evalue": "'NoneType' object has no attribute 'group'",
     "output_type": "error",
     "traceback": [
      "\u001b[1;31m---------------------------------------------------------------------------\u001b[0m",
      "\u001b[1;31mAttributeError\u001b[0m                            Traceback (most recent call last)",
      "Input \u001b[1;32mIn [64]\u001b[0m, in \u001b[0;36m<cell line: 1>\u001b[1;34m()\u001b[0m\n\u001b[1;32m----> 1\u001b[0m \u001b[43mre\u001b[49m\u001b[38;5;241;43m.\u001b[39;49m\u001b[43mcompile\u001b[49m\u001b[43m(\u001b[49m\u001b[38;5;124;43mr\u001b[39;49m\u001b[38;5;124;43m'\u001b[39;49m\u001b[38;5;124;43mhttps?://space.bilibili\u001b[39;49m\u001b[38;5;124;43m\\\u001b[39;49m\u001b[38;5;124;43m.com/(?P<userid>\u001b[39;49m\u001b[38;5;124;43m\\\u001b[39;49m\u001b[38;5;124;43md+)/channel/collectiondetail.+sid=(?P<listid>\u001b[39;49m\u001b[38;5;124;43m\\\u001b[39;49m\u001b[38;5;124;43md+).+\u001b[39;49m\u001b[38;5;124;43m'\u001b[39;49m\u001b[43m)\u001b[49m\u001b[38;5;241;43m.\u001b[39;49m\u001b[43mmatch\u001b[49m\u001b[43m(\u001b[49m\u001b[38;5;124;43mr\u001b[39;49m\u001b[38;5;124;43m'\u001b[39;49m\u001b[38;5;124;43mhttps://space.bilibili.com/59272673\u001b[39;49m\u001b[38;5;124;43m'\u001b[39;49m\u001b[43m)\u001b[49m\u001b[38;5;241;43m.\u001b[39;49m\u001b[43mgroup\u001b[49m(\u001b[38;5;124m'\u001b[39m\u001b[38;5;124muserid\u001b[39m\u001b[38;5;124m'\u001b[39m, \u001b[38;5;124m'\u001b[39m\u001b[38;5;124mlistid\u001b[39m\u001b[38;5;124m'\u001b[39m)\n",
      "\u001b[1;31mAttributeError\u001b[0m: 'NoneType' object has no attribute 'group'"
     ]
    }
   ],
   "source": [
    "re.compile(r'https?://space.bilibili\\.com/(?P<userid>\\d+)/channel/collectiondetail.+sid=(?P<listid>\\d+).+').match(r'https://space.bilibili.com/59272673').group('userid', 'listid')"
   ]
  },
  {
   "cell_type": "code",
   "execution_count": 8,
   "id": "b4832d99",
   "metadata": {},
   "outputs": [
    {
     "name": "stdout",
     "output_type": "stream",
     "text": [
      "07_Wanna Know Me by KANADE MiMi.mp4\n"
     ]
    }
   ],
   "source": [
    "import os\n",
    "fn = r'[KANADE MiMi ch.] 【無料ライブ】奏みみ バーチャルオンラインアジアツアー2022 -CAT STREET BANGKOK-【奏みみ】 20220221_07_Wanna Know Me by KANADE MiMi.mp4'\n",
    "base = r'[KANADE MiMi ch.] 【無料ライブ】奏みみ バーチャルオンラインアジアツアー2022 -CAT STREET BANGKOK-【奏みみ】 20220221.mp4'\n",
    "file = fn[len(base) - len(os.path.splitext(base)[1]) + 1:]\n",
    "filename = file[:file.rfind('.')]\n",
    "fileext = file[len(filename):]\n",
    "print(filename[:80] + fileext)"
   ]
  },
  {
   "cell_type": "code",
   "execution_count": 8,
   "id": "a2160f95",
   "metadata": {},
   "outputs": [
    {
     "data": {
      "text/plain": [
       "[['00:14:54', '踊 by Ado'],\n",
       " ['00:21:14', 'ギラギラ by Ado'],\n",
       " ['00:29:33', 'ノーダウト by Official髭男dism'],\n",
       " ['00:35:20', '千本桜 by 黒うさＰ feat 初音ミク'],\n",
       " ['00:36:49', 'メルト by ryo (supercell) feat.初音ミク'],\n",
       " ['00:39:21', '人生のメリーゴーランド by 久石譲'],\n",
       " ['00:41:18', 'あの夏へ by 久石譲'],\n",
       " ['00:45:00', '風の憧憬 by クロノトリガー'],\n",
       " ['00:46:53', 'おおぞらをとぶ by ドラゴンクエストより'],\n",
       " ['00:49:02', 'ブレスオブザワイルド by メインテーマ'],\n",
       " ['00:51:29', 'My Favorite Things by Julie Andrews'],\n",
       " ['00:53:22', 'Spain by Chick Corea'],\n",
       " ['00:56:19', 'マツケンサンバⅡ by 松平健'],\n",
       " ['00:59:49', 'シュガーソングとビターステップ by UNISON SQUARE GARDEN'],\n",
       " ['01:05:46', 'みちしるべ by 茅原實里'],\n",
       " ['01:12:00', '全ての人の魂の詩 by 小宮知子'],\n",
       " ['01:18:25', 'Stellar Stellar by 星街すいせい']]"
      ]
     },
     "execution_count": 8,
     "metadata": {},
     "output_type": "execute_result"
    }
   ],
   "source": [
    "timestamps = []\n",
    "delimited = '/'\n",
    "rev = False\n",
    "for i in open(r\"D:\\tmp\\ytd\\timstamp.ini\", 'r', encoding='UTF-8'):\n",
    "            i = i.replace('\\n','').replace('」', '').replace('~「',' ').replace('「', ' ').replace(\n",
    "                '『', ' ').replace('』', ' ').replace('　', ' ').replace('\t', ' ').replace('\\'','')\n",
    "            if ' （' in i: i = i[:i.find(' （')]\n",
    "            extracted = re.findall('\\d*:*\\d+:\\d+',i)\n",
    "            if len(extracted) > 0:\n",
    "                timestamps.append([extracted[0], i[i.find(extracted[-1]) + len(extracted[-1]):]])\n",
    "                #timestamps[-1][1] = timestamps[-1][1][1:]\n",
    "                if delimited in timestamps[-1][1]:\n",
    "                    timestamps[-1][1] = [timestamps[-1][1][:timestamps[-1][1].find('/')],\n",
    "                                         timestamps[-1][1][timestamps[-1][1].find('/')+1:], ]\n",
    "                    if rev: timestamps[-1][1].reverse()\n",
    "                    timestamps[-1][1] = ' by '.join(timestamps[-1][1])\n",
    "                #timestamps[-1][1].replace('/', ' by ')\n",
    "                #timestamps[-1][1] = ' by '.join(timestamps[-1][1].split('/'))\n",
    "                #timestamps[-1][1] = timestamps[-1][1].replace('-', 'by')\n",
    "                while timestamps[-1][1][0] == ' ': timestamps[-1][1] = timestamps[-1][1][1:]\n",
    "                while timestamps[-1][1][-1] == ' ': timestamps[-1][1] = timestamps[-1][1][:-1]\n",
    "        #        nameswitch = True\n",
    "timestamps"
   ]
  },
  {
   "cell_type": "code",
   "execution_count": 5,
   "id": "8e29612c",
   "metadata": {},
   "outputs": [
    {
     "ename": "NameError",
     "evalue": "name 'a' is not defined",
     "output_type": "error",
     "traceback": [
      "\u001b[1;31m---------------------------------------------------------------------------\u001b[0m",
      "\u001b[1;31mNameError\u001b[0m                                 Traceback (most recent call last)",
      "Input \u001b[1;32mIn [5]\u001b[0m, in \u001b[0;36m<cell line: 17>\u001b[1;34m()\u001b[0m\n\u001b[0;32m     15\u001b[0m         r[\u001b[38;5;124m'\u001b[39m\u001b[38;5;124mtitle\u001b[39m\u001b[38;5;124m'\u001b[39m] \u001b[38;5;241m=\u001b[39m a[a\u001b[38;5;241m.\u001b[39mindex(r[\u001b[38;5;124m'\u001b[39m\u001b[38;5;124mto\u001b[39m\u001b[38;5;124m'\u001b[39m])\u001b[38;5;241m+\u001b[39m\u001b[38;5;28mlen\u001b[39m(r[\u001b[38;5;124m'\u001b[39m\u001b[38;5;124mto\u001b[39m\u001b[38;5;124m'\u001b[39m]):]\n\u001b[0;32m     16\u001b[0m     \u001b[38;5;28;01mreturn\u001b[39;00m r\n\u001b[1;32m---> 17\u001b[0m \u001b[43mtimestamp_extract\u001b[49m\u001b[43m(\u001b[49m\u001b[43mi\u001b[49m\u001b[43m)\u001b[49m\n",
      "Input \u001b[1;32mIn [5]\u001b[0m, in \u001b[0;36mtimestamp_extract\u001b[1;34m(string, linebreak)\u001b[0m\n\u001b[0;32m     10\u001b[0m \u001b[38;5;28;01mif\u001b[39;00m \u001b[38;5;28mlen\u001b[39m(extracted) \u001b[38;5;241m>\u001b[39m \u001b[38;5;241m0\u001b[39m:\n\u001b[0;32m     11\u001b[0m     r[\u001b[38;5;124m'\u001b[39m\u001b[38;5;124mss\u001b[39m\u001b[38;5;124m'\u001b[39m] \u001b[38;5;241m=\u001b[39m extracted[\u001b[38;5;241m0\u001b[39m]\n\u001b[1;32m---> 12\u001b[0m     r[\u001b[38;5;124m'\u001b[39m\u001b[38;5;124mtitle\u001b[39m\u001b[38;5;124m'\u001b[39m] \u001b[38;5;241m=\u001b[39m \u001b[43ma\u001b[49m[a\u001b[38;5;241m.\u001b[39mindex(r[\u001b[38;5;124m'\u001b[39m\u001b[38;5;124mss\u001b[39m\u001b[38;5;124m'\u001b[39m])\u001b[38;5;241m+\u001b[39m\u001b[38;5;28mlen\u001b[39m(r[\u001b[38;5;124m'\u001b[39m\u001b[38;5;124mss\u001b[39m\u001b[38;5;124m'\u001b[39m]):]\n\u001b[0;32m     13\u001b[0m \u001b[38;5;28;01mif\u001b[39;00m \u001b[38;5;28mlen\u001b[39m(extracted) \u001b[38;5;241m>\u001b[39m \u001b[38;5;241m1\u001b[39m:\n\u001b[0;32m     14\u001b[0m     r[\u001b[38;5;124m'\u001b[39m\u001b[38;5;124mto\u001b[39m\u001b[38;5;124m'\u001b[39m] \u001b[38;5;241m=\u001b[39m extracted[\u001b[38;5;241m1\u001b[39m]\n",
      "\u001b[1;31mNameError\u001b[0m: name 'a' is not defined"
     ]
    }
   ],
   "source": [
    "import re\n",
    "def timestamp_extract(string, linebreak = True):\n",
    "    if linebreak: string = string[:-1]\n",
    "    r = {\n",
    "        'ss':None,\n",
    "        'to':None,\n",
    "        'title':None,\n",
    "    }\n",
    "    extracted = re.findall('\\d*:*\\d+:\\d+',string)\n",
    "    if len(extracted) > 0:\n",
    "        r['ss'] = extracted[0]\n",
    "        r['title'] = a[a.index(r['ss'])+len(r['ss']):]\n",
    "    if len(extracted) > 1:\n",
    "        r['to'] = extracted[1]\n",
    "        r['title'] = a[a.index(r['to'])+len(r['to']):]\n",
    "    return r\n",
    "timestamp_extract(i)"
   ]
  },
  {
   "cell_type": "code",
   "execution_count": 22,
   "id": "80f9afb1",
   "metadata": {},
   "outputs": [
    {
     "data": {
      "text/plain": [
       "'01'"
      ]
     },
     "execution_count": 22,
     "metadata": {},
     "output_type": "execute_result"
    }
   ],
   "source": [
    "re.match('\\d+','01. 너를 태우고 (君をのせて) [Kimi wo Nosete] / 井上あずみ'[:'01. 너를 태우고 (君をのせて) [Kimi wo Nosete] / 井上あずみ'.find('.')])[0]"
   ]
  },
  {
   "cell_type": "code",
   "execution_count": null,
   "id": "e825e18e",
   "metadata": {},
   "outputs": [],
   "source": []
  }
 ],
 "metadata": {
  "kernelspec": {
   "display_name": "Python 3 (ipykernel)",
   "language": "python",
   "name": "python3"
  },
  "language_info": {
   "codemirror_mode": {
    "name": "ipython",
    "version": 3
   },
   "file_extension": ".py",
   "mimetype": "text/x-python",
   "name": "python",
   "nbconvert_exporter": "python",
   "pygments_lexer": "ipython3",
   "version": "3.10.4"
  }
 },
 "nbformat": 4,
 "nbformat_minor": 5
}
